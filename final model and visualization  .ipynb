{
 "cells": [
  {
   "cell_type": "code",
   "execution_count": 1,
   "metadata": {},
   "outputs": [],
   "source": [
    "from sklearn.model_selection import train_test_split\n",
    "from sklearn.linear_model import LinearRegression\n",
    "from sklearn.neighbors import KNeighborsRegressor\n",
    "from sklearn.preprocessing import OneHotEncoder\n",
    "from sklearn.tree import DecisionTreeRegressor\n",
    "from sklearn.linear_model import Ridge\n",
    "from sklearn import preprocessing\n",
    "import sklearn.metrics as metrics\n",
    "from sklearn import linear_model\n",
    "import plotly.express as px\n"
   ]
  },
  {
   "cell_type": "code",
   "execution_count": 2,
   "metadata": {},
   "outputs": [],
   "source": [
    "import matplotlib.pyplot as plt\n",
    "import pandas as pd\n",
    "import numpy as np\n",
    "import math\n",
    "import seaborn as sns"
   ]
  },
  {
   "cell_type": "code",
   "execution_count": 3,
   "metadata": {},
   "outputs": [],
   "source": [
    "def preprocess(df):\n",
    "    # df = df.dropna()\n",
    "    # df = df[df[\"Crop\"]==\"Avocados\"]\n",
    "    # df = df.drop(columns=\"Crop\", axis=1)\n",
    "    # df = df.drop(columns=\"Year\", axis=1)\n",
    "    df['Export Quantity'] = df['Export Quantity'].interpolate(method='linear', limit_direction='backward', axis=0)\n",
    "    scaler = preprocessing.StandardScaler()\n",
    "    scal_feat = ['Temperature (Avg)','Precipitation','Export Quantity','Fertilizer Usage']\n",
    "    df[scal_feat]=scaler.fit_transform(df[scal_feat].to_numpy())\n",
    "    feat = scal_feat + [\"Crop\"]\n",
    "    X = df[feat].copy(deep=True)\n",
    "    X = pd.get_dummies(X, columns = ['Crop'])\n",
    "    y = df['Yield'].copy(deep=True)\n",
    "\n",
    "    X_train, X_test, y_train, y_test = train_test_split(X, y, test_size = 0.20, random_state = 13)\n",
    "\n",
    "    return X_train, X_test, y_train, y_test, X"
   ]
  },
  {
   "cell_type": "code",
   "execution_count": 4,
   "metadata": {},
   "outputs": [],
   "source": [
    "def compute_scores(y_test, y_pred):\n",
    "    mae = metrics.mean_absolute_error(y_test, y_pred)\n",
    "    mse = metrics.mean_squared_error(y_test, y_pred)\n",
    "    rmse = math.sqrt(mse) \n",
    "    r2 = metrics.r2_score(y_test, y_pred)\n",
    "    print(\"MAE : \",mae)\n",
    "    print(\"MSE : \",mse)\n",
    "    print(\"RMSE : \",rmse)\n",
    "    print(\"R2 : \",r2)"
   ]
  },
  {
   "cell_type": "code",
   "execution_count": 5,
   "metadata": {},
   "outputs": [],
   "source": [
    "df = pd.read_csv(\"Data/crop_yield_data.csv\")"
   ]
  },
  {
   "cell_type": "code",
   "execution_count": 6,
   "metadata": {},
   "outputs": [],
   "source": [
    "df = df.drop(columns=[\"Year\"], axis =1 )"
   ]
  },
  {
   "cell_type": "code",
   "execution_count": 7,
   "metadata": {},
   "outputs": [],
   "source": [
    "X_train, X_test, y_train, y_test, X = preprocess(df)"
   ]
  },
  {
   "cell_type": "code",
   "execution_count": 8,
   "metadata": {},
   "outputs": [
    {
     "data": {
      "text/html": [
       "<div>\n",
       "<style scoped>\n",
       "    .dataframe tbody tr th:only-of-type {\n",
       "        vertical-align: middle;\n",
       "    }\n",
       "\n",
       "    .dataframe tbody tr th {\n",
       "        vertical-align: top;\n",
       "    }\n",
       "\n",
       "    .dataframe thead th {\n",
       "        text-align: right;\n",
       "    }\n",
       "</style>\n",
       "<table border=\"1\" class=\"dataframe\">\n",
       "  <thead>\n",
       "    <tr style=\"text-align: right;\">\n",
       "      <th></th>\n",
       "      <th>Temperature (Avg)</th>\n",
       "      <th>Precipitation</th>\n",
       "      <th>Export Quantity</th>\n",
       "      <th>Fertilizer Usage</th>\n",
       "      <th>Crop_Avocados</th>\n",
       "      <th>Crop_Bananas</th>\n",
       "      <th>Crop_Rice</th>\n",
       "      <th>Crop_Wheat</th>\n",
       "    </tr>\n",
       "  </thead>\n",
       "  <tbody>\n",
       "    <tr>\n",
       "      <th>9</th>\n",
       "      <td>-0.910168</td>\n",
       "      <td>-0.744023</td>\n",
       "      <td>-0.578619</td>\n",
       "      <td>-0.814703</td>\n",
       "      <td>1</td>\n",
       "      <td>0</td>\n",
       "      <td>0</td>\n",
       "      <td>0</td>\n",
       "    </tr>\n",
       "    <tr>\n",
       "      <th>213</th>\n",
       "      <td>0.299166</td>\n",
       "      <td>0.019717</td>\n",
       "      <td>1.910638</td>\n",
       "      <td>0.522640</td>\n",
       "      <td>0</td>\n",
       "      <td>0</td>\n",
       "      <td>0</td>\n",
       "      <td>1</td>\n",
       "    </tr>\n",
       "    <tr>\n",
       "      <th>33</th>\n",
       "      <td>0.299166</td>\n",
       "      <td>0.019717</td>\n",
       "      <td>-0.577951</td>\n",
       "      <td>0.522640</td>\n",
       "      <td>1</td>\n",
       "      <td>0</td>\n",
       "      <td>0</td>\n",
       "      <td>0</td>\n",
       "    </tr>\n",
       "    <tr>\n",
       "      <th>208</th>\n",
       "      <td>-0.702854</td>\n",
       "      <td>-0.416581</td>\n",
       "      <td>2.399118</td>\n",
       "      <td>0.128124</td>\n",
       "      <td>0</td>\n",
       "      <td>0</td>\n",
       "      <td>0</td>\n",
       "      <td>1</td>\n",
       "    </tr>\n",
       "    <tr>\n",
       "      <th>155</th>\n",
       "      <td>-0.823787</td>\n",
       "      <td>0.944014</td>\n",
       "      <td>-0.532183</td>\n",
       "      <td>0.686712</td>\n",
       "      <td>0</td>\n",
       "      <td>0</td>\n",
       "      <td>1</td>\n",
       "      <td>0</td>\n",
       "    </tr>\n",
       "  </tbody>\n",
       "</table>\n",
       "</div>"
      ],
      "text/plain": [
       "     Temperature (Avg)  Precipitation  Export Quantity  Fertilizer Usage  \\\n",
       "9            -0.910168      -0.744023        -0.578619         -0.814703   \n",
       "213           0.299166       0.019717         1.910638          0.522640   \n",
       "33            0.299166       0.019717        -0.577951          0.522640   \n",
       "208          -0.702854      -0.416581         2.399118          0.128124   \n",
       "155          -0.823787       0.944014        -0.532183          0.686712   \n",
       "\n",
       "     Crop_Avocados  Crop_Bananas  Crop_Rice  Crop_Wheat  \n",
       "9                1             0          0           0  \n",
       "213              0             0          0           1  \n",
       "33               1             0          0           0  \n",
       "208              0             0          0           1  \n",
       "155              0             0          1           0  "
      ]
     },
     "execution_count": 8,
     "metadata": {},
     "output_type": "execute_result"
    }
   ],
   "source": [
    "X_train.head()"
   ]
  },
  {
   "cell_type": "code",
   "execution_count": 9,
   "metadata": {},
   "outputs": [
    {
     "data": {
      "text/plain": [
       "9      43462\n",
       "213    25270\n",
       "33     58364\n",
       "208    22024\n",
       "155    68593\n",
       "Name: Yield, dtype: int64"
      ]
     },
     "execution_count": 9,
     "metadata": {},
     "output_type": "execute_result"
    }
   ],
   "source": [
    "y_train.head()"
   ]
  },
  {
   "cell_type": "code",
   "execution_count": 10,
   "metadata": {},
   "outputs": [
    {
     "data": {
      "image/png": "[encoded data removed]",
      "text/plain": [
       "<Figure size 432x288 with 2 Axes>"
      ]
     },
     "metadata": {
      "needs_background": "light"
     },
     "output_type": "display_data"
    }
   ],
   "source": [
    "df.corr()\n",
    "heatmap = sns.heatmap(df.corr(), vmin=-1, vmax=1, annot=True)\n",
    "heatmap.set_title('Correlation Heatmap', fontdict={'fontsize':12}, pad=12);"
   ]
  },
  {
   "cell_type": "code",
   "execution_count": 11,
   "metadata": {},
   "outputs": [
    {
     "name": "stdout",
     "output_type": "stream",
     "text": [
      "MAE :  10048.020833333334\n",
      "MSE :  226212470.4375\n",
      "RMSE :  15040.361379883796\n",
      "R2 :  0.9079719354215636\n"
     ]
    }
   ],
   "source": [
    "dt_regression = DecisionTreeRegressor()\n",
    "dt_regression.fit(X_train, y_train)\n",
    "y_pred_dt = dt_regression.predict(X_test)\n",
    "compute_scores(y_test, y_pred_dt)"
   ]
  },
  {
   "cell_type": "code",
   "execution_count": null,
   "metadata": {},
   "outputs": [],
   "source": []
  }
 ],
 "metadata": {
  "kernelspec": {
   "display_name": "Python 3",
   "language": "python",
   "name": "python3"
  },
  "language_info": {
   "codemirror_mode": {
    "name": "ipython",
    "version": 3
   },
   "file_extension": ".py",
   "mimetype": "text/x-python",
   "name": "python",
   "nbconvert_exporter": "python",
   "pygments_lexer": "ipython3",
   "version": "3.8.5"
  }
 },
 "nbformat": 4,
 "nbformat_minor": 4
}
